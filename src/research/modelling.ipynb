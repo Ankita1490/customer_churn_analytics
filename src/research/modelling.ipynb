{
 "cells": [
  {
   "cell_type": "code",
   "execution_count": 72,
   "metadata": {},
   "outputs": [],
   "source": [
    "import pandas as pd\n",
    "import numpy as np\n",
    "import os\n",
    "from sklearn.preprocessing import LabelEncoder, StandardScaler\n",
    "from sklearn.compose import ColumnTransformer\n",
    "from imblearn.over_sampling import SMOTENC\n",
    "from collections import Counter\n",
    "from sklearn.model_selection import train_test_split\n",
    "from sklearn.metrics import accuracy_score, precision_score, recall_score, roc_auc_score, confusion_matrix\n",
    "from sklearn.linear_model import LogisticRegression\n",
    "from sklearn.tree import DecisionTreeClassifier\n",
    "from sklearn.ensemble import RandomForestClassifier\n",
    "from sklearn.ensemble import GradientBoostingClassifier\n",
    "from sklearn.ensemble import AdaBoostClassifier\n",
    "from xgboost import XGBClassifier"
   ]
  },
  {
   "cell_type": "code",
   "execution_count": 36,
   "metadata": {},
   "outputs": [
    {
     "data": {
      "text/plain": [
       "'c:\\\\Users\\\\ankita\\\\Desktop\\\\Personal_Project\\\\Customer_churn_analytics\\\\src\\\\research'"
      ]
     },
     "execution_count": 36,
     "metadata": {},
     "output_type": "execute_result"
    }
   ],
   "source": [
    "os.getcwd()"
   ]
  },
  {
   "cell_type": "code",
   "execution_count": 37,
   "metadata": {},
   "outputs": [],
   "source": [
    "\n",
    "churn_df = pd.read_csv(\"./../../artifacts/customer_churn.csv\")"
   ]
  },
  {
   "cell_type": "markdown",
   "metadata": {},
   "source": [
    "#### Preprocessing"
   ]
  },
  {
   "cell_type": "code",
   "execution_count": 38,
   "metadata": {},
   "outputs": [],
   "source": [
    "train, test = train_test_split(churn_df, test_size=0.2, shuffle=False)"
   ]
  },
  {
   "cell_type": "code",
   "execution_count": 39,
   "metadata": {},
   "outputs": [
    {
     "name": "stdout",
     "output_type": "stream",
     "text": [
      "(5634, 21)\n",
      "(1409, 21)\n"
     ]
    }
   ],
   "source": [
    "print(train.shape)\n",
    "print(test.shape)"
   ]
  },
  {
   "cell_type": "markdown",
   "metadata": {},
   "source": [
    "## Preprocessing on the train set"
   ]
  },
  {
   "cell_type": "code",
   "execution_count": 40,
   "metadata": {},
   "outputs": [
    {
     "data": {
      "text/html": [
       "<div>\n",
       "<style scoped>\n",
       "    .dataframe tbody tr th:only-of-type {\n",
       "        vertical-align: middle;\n",
       "    }\n",
       "\n",
       "    .dataframe tbody tr th {\n",
       "        vertical-align: top;\n",
       "    }\n",
       "\n",
       "    .dataframe thead th {\n",
       "        text-align: right;\n",
       "    }\n",
       "</style>\n",
       "<table border=\"1\" class=\"dataframe\">\n",
       "  <thead>\n",
       "    <tr style=\"text-align: right;\">\n",
       "      <th></th>\n",
       "      <th>SeniorCitizen</th>\n",
       "      <th>tenure</th>\n",
       "      <th>MonthlyCharges</th>\n",
       "    </tr>\n",
       "  </thead>\n",
       "  <tbody>\n",
       "    <tr>\n",
       "      <th>count</th>\n",
       "      <td>5634.000000</td>\n",
       "      <td>5634.000000</td>\n",
       "      <td>5634.000000</td>\n",
       "    </tr>\n",
       "    <tr>\n",
       "      <th>mean</th>\n",
       "      <td>0.160454</td>\n",
       "      <td>32.296592</td>\n",
       "      <td>64.867483</td>\n",
       "    </tr>\n",
       "    <tr>\n",
       "      <th>std</th>\n",
       "      <td>0.367060</td>\n",
       "      <td>24.588599</td>\n",
       "      <td>30.099600</td>\n",
       "    </tr>\n",
       "    <tr>\n",
       "      <th>min</th>\n",
       "      <td>0.000000</td>\n",
       "      <td>0.000000</td>\n",
       "      <td>18.250000</td>\n",
       "    </tr>\n",
       "    <tr>\n",
       "      <th>25%</th>\n",
       "      <td>0.000000</td>\n",
       "      <td>9.000000</td>\n",
       "      <td>35.612500</td>\n",
       "    </tr>\n",
       "    <tr>\n",
       "      <th>50%</th>\n",
       "      <td>0.000000</td>\n",
       "      <td>29.000000</td>\n",
       "      <td>70.425000</td>\n",
       "    </tr>\n",
       "    <tr>\n",
       "      <th>75%</th>\n",
       "      <td>0.000000</td>\n",
       "      <td>55.000000</td>\n",
       "      <td>89.900000</td>\n",
       "    </tr>\n",
       "    <tr>\n",
       "      <th>max</th>\n",
       "      <td>1.000000</td>\n",
       "      <td>72.000000</td>\n",
       "      <td>118.750000</td>\n",
       "    </tr>\n",
       "  </tbody>\n",
       "</table>\n",
       "</div>"
      ],
      "text/plain": [
       "       SeniorCitizen       tenure  MonthlyCharges\n",
       "count    5634.000000  5634.000000     5634.000000\n",
       "mean        0.160454    32.296592       64.867483\n",
       "std         0.367060    24.588599       30.099600\n",
       "min         0.000000     0.000000       18.250000\n",
       "25%         0.000000     9.000000       35.612500\n",
       "50%         0.000000    29.000000       70.425000\n",
       "75%         0.000000    55.000000       89.900000\n",
       "max         1.000000    72.000000      118.750000"
      ]
     },
     "execution_count": 40,
     "metadata": {},
     "output_type": "execute_result"
    }
   ],
   "source": [
    "train.describe()"
   ]
  },
  {
   "cell_type": "code",
   "execution_count": 41,
   "metadata": {},
   "outputs": [
    {
     "data": {
      "text/plain": [
       "customerID           object\n",
       "gender               object\n",
       "SeniorCitizen         int64\n",
       "Partner              object\n",
       "Dependents           object\n",
       "tenure                int64\n",
       "PhoneService         object\n",
       "MultipleLines        object\n",
       "InternetService      object\n",
       "OnlineSecurity       object\n",
       "OnlineBackup         object\n",
       "DeviceProtection     object\n",
       "TechSupport          object\n",
       "StreamingTV          object\n",
       "StreamingMovies      object\n",
       "Contract             object\n",
       "PaperlessBilling     object\n",
       "PaymentMethod        object\n",
       "MonthlyCharges      float64\n",
       "TotalCharges         object\n",
       "Churn                object\n",
       "dtype: object"
      ]
     },
     "execution_count": 41,
     "metadata": {},
     "output_type": "execute_result"
    }
   ],
   "source": [
    "train.dtypes"
   ]
  },
  {
   "cell_type": "code",
   "execution_count": 42,
   "metadata": {},
   "outputs": [],
   "source": [
    "def correct_incorrect_dtypes(X):\n",
    "    if X['SeniorCitizen'].dtype in ['int64','float64']:\n",
    "        X['SeniorCitizen']= X['SeniorCitizen'].astype('object')\n",
    "        X['TotalCharges'] = pd.to_numeric(X['TotalCharges'], errors = 'coerce')\n",
    "    return X\n",
    "        "
   ]
  },
  {
   "cell_type": "code",
   "execution_count": 43,
   "metadata": {},
   "outputs": [],
   "source": [
    "train_df = correct_incorrect_dtypes(train)\n",
    "test_df = correct_incorrect_dtypes(test)"
   ]
  },
  {
   "cell_type": "code",
   "execution_count": 44,
   "metadata": {},
   "outputs": [
    {
     "data": {
      "text/plain": [
       "customerID          0\n",
       "gender              0\n",
       "SeniorCitizen       0\n",
       "Partner             0\n",
       "Dependents          0\n",
       "tenure              0\n",
       "PhoneService        0\n",
       "MultipleLines       0\n",
       "InternetService     0\n",
       "OnlineSecurity      0\n",
       "OnlineBackup        0\n",
       "DeviceProtection    0\n",
       "TechSupport         0\n",
       "StreamingTV         0\n",
       "StreamingMovies     0\n",
       "Contract            0\n",
       "PaperlessBilling    0\n",
       "PaymentMethod       0\n",
       "MonthlyCharges      0\n",
       "TotalCharges        9\n",
       "Churn               0\n",
       "dtype: int64"
      ]
     },
     "execution_count": 44,
     "metadata": {},
     "output_type": "execute_result"
    }
   ],
   "source": [
    "train_df.isna().sum()"
   ]
  },
  {
   "cell_type": "markdown",
   "metadata": {},
   "source": [
    "### Special Case"
   ]
  },
  {
   "cell_type": "code",
   "execution_count": 45,
   "metadata": {},
   "outputs": [
    {
     "data": {
      "text/html": [
       "<div>\n",
       "<style scoped>\n",
       "    .dataframe tbody tr th:only-of-type {\n",
       "        vertical-align: middle;\n",
       "    }\n",
       "\n",
       "    .dataframe tbody tr th {\n",
       "        vertical-align: top;\n",
       "    }\n",
       "\n",
       "    .dataframe thead th {\n",
       "        text-align: right;\n",
       "    }\n",
       "</style>\n",
       "<table border=\"1\" class=\"dataframe\">\n",
       "  <thead>\n",
       "    <tr style=\"text-align: right;\">\n",
       "      <th></th>\n",
       "      <th>tenure</th>\n",
       "      <th>TotalCharges</th>\n",
       "    </tr>\n",
       "  </thead>\n",
       "  <tbody>\n",
       "    <tr>\n",
       "      <th>488</th>\n",
       "      <td>0</td>\n",
       "      <td>NaN</td>\n",
       "    </tr>\n",
       "    <tr>\n",
       "      <th>753</th>\n",
       "      <td>0</td>\n",
       "      <td>NaN</td>\n",
       "    </tr>\n",
       "    <tr>\n",
       "      <th>936</th>\n",
       "      <td>0</td>\n",
       "      <td>NaN</td>\n",
       "    </tr>\n",
       "    <tr>\n",
       "      <th>1082</th>\n",
       "      <td>0</td>\n",
       "      <td>NaN</td>\n",
       "    </tr>\n",
       "    <tr>\n",
       "      <th>1340</th>\n",
       "      <td>0</td>\n",
       "      <td>NaN</td>\n",
       "    </tr>\n",
       "    <tr>\n",
       "      <th>3331</th>\n",
       "      <td>0</td>\n",
       "      <td>NaN</td>\n",
       "    </tr>\n",
       "    <tr>\n",
       "      <th>3826</th>\n",
       "      <td>0</td>\n",
       "      <td>NaN</td>\n",
       "    </tr>\n",
       "    <tr>\n",
       "      <th>4380</th>\n",
       "      <td>0</td>\n",
       "      <td>NaN</td>\n",
       "    </tr>\n",
       "    <tr>\n",
       "      <th>5218</th>\n",
       "      <td>0</td>\n",
       "      <td>NaN</td>\n",
       "    </tr>\n",
       "  </tbody>\n",
       "</table>\n",
       "</div>"
      ],
      "text/plain": [
       "      tenure  TotalCharges\n",
       "488        0           NaN\n",
       "753        0           NaN\n",
       "936        0           NaN\n",
       "1082       0           NaN\n",
       "1340       0           NaN\n",
       "3331       0           NaN\n",
       "3826       0           NaN\n",
       "4380       0           NaN\n",
       "5218       0           NaN"
      ]
     },
     "execution_count": 45,
     "metadata": {},
     "output_type": "execute_result"
    }
   ],
   "source": [
    "train_df[['tenure', 'TotalCharges']][train_df['tenure'] == 0.0]\n"
   ]
  },
  {
   "cell_type": "markdown",
   "metadata": {},
   "source": [
    "* Since there are 9 customers that only had 0 month tenure and totalCharges is null. I am assumming that the customers have signed a contract but possibly canceled or left before their first billing cycle, which tells us that their TotalCharges is null.\n",
    "* Either I can remove those instances but again if the unseen data has such instances that will be a problem.\n",
    "* Instead of having tenure as 0 we can modify it to 0.1 this ensures the model doesnt treat them as a completely different group but still recognises them as new customer.\n",
    "* Since they are not included in the billing cycle replacing the null value to 0 would be ok."
   ]
  },
  {
   "cell_type": "code",
   "execution_count": 60,
   "metadata": {},
   "outputs": [],
   "source": [
    "def impute_total_charges_for_zero_tenure(df):\n",
    "    if df['tenure'][df['tenure'] == 0.0].count() > 0:\n",
    "        df['tenure'][df['tenure'] == 0.0] = 0.1\n",
    "        df['TotalCharges']=df['TotalCharges'].fillna(0.0)\n",
    "    else:\n",
    "        print(\"There are no tenure that has 0 months\")\n",
    "    return df\n",
    "\n",
    "def categorize_dtypes(train_df):\n",
    "    numerical_columns = train_df.select_dtypes(['int64', 'float64']).columns\n",
    "    categorical_columns = train_df.select_dtypes(['object','category']).columns[1:]\n",
    "    return numerical_columns,categorical_columns\n",
    "\n",
    "def imputation(X,numerical_columns,categorical_columns):\n",
    "    median = X[numerical_columns].median()\n",
    "    mode = X[categorical_columns].mode()\n",
    "    X[numerical_columns]= X[numerical_columns].fillna(median)\n",
    "    X[categorical_columns] =X[categorical_columns].fillna(mode[0])\n",
    "    return X, median, mode\n",
    "\n",
    "def apply_imputation(test_df,numerical_columns,categorical_columns, median, mode):\n",
    "    test_df[numerical_columns]= test_df[numerical_columns].fillna(median)\n",
    "    test_df[categorical_columns] =test_df[categorical_columns].fillna(mode[0])\n",
    "    return test_df"
   ]
  },
  {
   "cell_type": "code",
   "execution_count": 55,
   "metadata": {},
   "outputs": [
    {
     "name": "stdout",
     "output_type": "stream",
     "text": [
      "There are no tenure that has 0 months\n",
      "There are no tenure that has 0 months\n"
     ]
    }
   ],
   "source": [
    "train_df = impute_total_charges_for_zero_tenure(train_df)\n",
    "test_df = impute_total_charges_for_zero_tenure(test_df)"
   ]
  },
  {
   "cell_type": "code",
   "execution_count": 49,
   "metadata": {},
   "outputs": [
    {
     "data": {
      "text/plain": [
       "Index(['customerID', 'gender', 'SeniorCitizen', 'Partner', 'Dependents',\n",
       "       'tenure', 'PhoneService', 'MultipleLines', 'InternetService',\n",
       "       'OnlineSecurity', 'OnlineBackup', 'DeviceProtection', 'TechSupport',\n",
       "       'StreamingTV', 'StreamingMovies', 'Contract', 'PaperlessBilling',\n",
       "       'PaymentMethod', 'MonthlyCharges', 'TotalCharges', 'Churn'],\n",
       "      dtype='object')"
      ]
     },
     "execution_count": 49,
     "metadata": {},
     "output_type": "execute_result"
    }
   ],
   "source": [
    "test_df.columns"
   ]
  },
  {
   "cell_type": "code",
   "execution_count": 61,
   "metadata": {},
   "outputs": [],
   "source": [
    "numerical_columns_, categorical_columns_ = categorize_dtypes(train_df)\n"
   ]
  },
  {
   "cell_type": "code",
   "execution_count": 63,
   "metadata": {},
   "outputs": [],
   "source": [
    "numertical_indices =  [train_df.columns.get_loc(col)  for col in numerical_columns_]\n",
    "categorical_indices = [train_df.columns.get_loc(col) for col in categorical_columns_]"
   ]
  },
  {
   "cell_type": "code",
   "execution_count": 68,
   "metadata": {},
   "outputs": [
    {
     "data": {
      "text/plain": [
       "[1, 2, 3, 4, 6, 7, 8, 9, 10, 11, 12, 13, 14, 15, 16, 17]"
      ]
     },
     "execution_count": 68,
     "metadata": {},
     "output_type": "execute_result"
    }
   ],
   "source": [
    "categorical_indices[:-1]"
   ]
  },
  {
   "cell_type": "code",
   "execution_count": null,
   "metadata": {},
   "outputs": [],
   "source": [
    "X_train, y_train = train_df.drop(columns = ['Churn'], axis = 1), train_df['Churn']"
   ]
  },
  {
   "cell_type": "code",
   "execution_count": 69,
   "metadata": {},
   "outputs": [],
   "source": [
    "smote_nc = SMOTENC(random_state=42, categorical_features=categorical_indices[:-1])\n",
    "X_train_resampled, y_train_resampled = smote_nc.fit_resample(X_train, y_train)\n"
   ]
  },
  {
   "cell_type": "code",
   "execution_count": 73,
   "metadata": {},
   "outputs": [
    {
     "name": "stdout",
     "output_type": "stream",
     "text": [
      "after smoteNC: Counter({0: 4146, 1: 4146})\n"
     ]
    }
   ],
   "source": [
    "print(f\"after smoteNC: {Counter(y_train_resampled)}\")"
   ]
  },
  {
   "cell_type": "code",
   "execution_count": 76,
   "metadata": {},
   "outputs": [],
   "source": [
    "train_df_resampled=pd.concat([X_train_resampled,y_train_resampled], axis = 1)"
   ]
  },
  {
   "cell_type": "code",
   "execution_count": 78,
   "metadata": {},
   "outputs": [],
   "source": [
    "def feature_scaling_encoding(train_df,test_df, numerical_columns_, categorical_columns_):\n",
    "    \n",
    "    standard_scl = StandardScaler()\n",
    "    train_df[numerical_columns_] = standard_scl.fit_transform(train_df[numerical_columns_])\n",
    "    test_df[numerical_columns_] = standard_scl.transform(test_df[numerical_columns_])\n",
    "        \n",
    "    for col in categorical_columns_:\n",
    "        le = LabelEncoder()\n",
    "        train_df[col] = le.fit_transform(train_df[col])\n",
    "        test_df[col] = le.transform(test_df[col])\n",
    "    return train_df, test_df"
   ]
  },
  {
   "cell_type": "code",
   "execution_count": 80,
   "metadata": {},
   "outputs": [],
   "source": [
    "scaled_encoded_train_df, scaled_encoded_test_df = feature_scaling_encoding(train_df, test_df, numerical_columns_, categorical_columns_)"
   ]
  },
  {
   "cell_type": "code",
   "execution_count": 82,
   "metadata": {},
   "outputs": [
    {
     "data": {
      "text/plain": [
       "Index(['customerID', 'gender', 'SeniorCitizen', 'Partner', 'Dependents',\n",
       "       'tenure', 'PhoneService', 'MultipleLines', 'InternetService',\n",
       "       'OnlineSecurity', 'OnlineBackup', 'DeviceProtection', 'TechSupport',\n",
       "       'StreamingTV', 'StreamingMovies', 'Contract', 'PaperlessBilling',\n",
       "       'PaymentMethod', 'MonthlyCharges', 'TotalCharges', 'Churn'],\n",
       "      dtype='object')"
      ]
     },
     "execution_count": 82,
     "metadata": {},
     "output_type": "execute_result"
    }
   ],
   "source": [
    "scaled_encoded_train_df.columns"
   ]
  },
  {
   "cell_type": "code",
   "execution_count": 83,
   "metadata": {},
   "outputs": [],
   "source": [
    "X_train, y_train = scaled_encoded_train_df.drop(['customerID','Churn'], axis = 1), scaled_encoded_train_df['Churn']\n",
    "X_test, y_test = scaled_encoded_test_df.drop(['customerID','Churn'], axis = 1), scaled_encoded_test_df['Churn']"
   ]
  },
  {
   "cell_type": "markdown",
   "metadata": {},
   "source": [
    "### train and val split"
   ]
  },
  {
   "cell_type": "code",
   "execution_count": 86,
   "metadata": {},
   "outputs": [],
   "source": [
    "train_X, val_X, train_y, val_y = train_test_split(X_train,y_train, test_size=0.2, stratify=y_train)"
   ]
  },
  {
   "cell_type": "code",
   "execution_count": 88,
   "metadata": {},
   "outputs": [
    {
     "name": "stdout",
     "output_type": "stream",
     "text": [
      "(4507, 19)\n",
      "(4507,)\n",
      "(1127, 19)\n",
      "(1127,)\n"
     ]
    }
   ],
   "source": [
    "print(train_X.shape)\n",
    "print(train_y.shape)\n",
    "print(val_X.shape)\n",
    "print(val_y.shape)"
   ]
  },
  {
   "cell_type": "code",
   "execution_count": 90,
   "metadata": {},
   "outputs": [
    {
     "name": "stdout",
     "output_type": "stream",
     "text": [
      "Final Train Class Distribution: Counter({0: 3317, 1: 1190})\n",
      "Final Validation Class Distribution: Counter({0: 829, 1: 298})\n"
     ]
    }
   ],
   "source": [
    "# Check Final Class Distribution\n",
    "print(\"Final Train Class Distribution:\", Counter(train_y))  # Should still be balanced\n",
    "print(\"Final Validation Class Distribution:\", Counter(val_y))"
   ]
  },
  {
   "cell_type": "markdown",
   "metadata": {},
   "source": [
    "### Create and evalute metric after the training model"
   ]
  },
  {
   "cell_type": "code",
   "execution_count": 91,
   "metadata": {},
   "outputs": [],
   "source": [
    "def evalute_model(true,predicted):\n",
    "    accuracy = accuracy_score(true, predicted)\n",
    "    cf_mx = confusion_matrix(true, predicted)\n",
    "    precision = precision_score(true, predicted)\n",
    "    recall = recall_score(true, predicted)\n",
    "    auc_roc = roc_auc_score(true, predicted)\n",
    "    return accuracy,cf_mx,precision,recall,auc_roc\n",
    "    "
   ]
  },
  {
   "cell_type": "code",
   "execution_count": 92,
   "metadata": {},
   "outputs": [],
   "source": [
    "models = {\n",
    "    \"logistic_regression\" : LogisticRegression(),\n",
    "    \"decision_tree\": DecisionTreeClassifier(),\n",
    "    \"random_forest\": RandomForestClassifier(),\n",
    "    \"ada_boost\": AdaBoostClassifier(),\n",
    "    \"gradient_boosting\": GradientBoostingClassifier(),\n",
    "    \"xgboost\": XGBClassifier()\n",
    "}\n"
   ]
  },
  {
   "cell_type": "code",
   "execution_count": 93,
   "metadata": {},
   "outputs": [],
   "source": [
    "model_list = []\n",
    "model_mertic = {}\n",
    "precision, recall = [], []\n",
    "for key,value in models.items():\n",
    "    model = models[key]\n",
    "    model.fit(train_X, train_y)\n",
    "    y_train_pred = model.predict(train_X)\n",
    "    y_val_pred = model.predict(val_X)\n",
    "    \n",
    "    model_train_accuracy, model_train_cf_mx, model_train_precision, model_train_recall, model_train_auc = evalute_model(train_y.values, y_train_pred)\n",
    "    model_val_accuracy,model_val_cf_mx, model_val_precision, model_val_recall, model_val_auc = evalute_model(val_y.values, y_val_pred)\n",
    "    model_list.append(model)\n",
    "    model_mertic[key] = {\n",
    "        'accuracy': model_val_accuracy, \n",
    "        'confusion_matrix':model_val_cf_mx,\n",
    "        'precision':model_val_precision,\n",
    "        'recall': model_val_recall,\n",
    "        'auc': model_val_auc\n",
    "    }"
   ]
  },
  {
   "cell_type": "code",
   "execution_count": 95,
   "metadata": {},
   "outputs": [],
   "source": [
    "### Before SMOTE NC"
   ]
  },
  {
   "cell_type": "code",
   "execution_count": 25,
   "metadata": {},
   "outputs": [
    {
     "data": {
      "text/html": [
       "<div>\n",
       "<style scoped>\n",
       "    .dataframe tbody tr th:only-of-type {\n",
       "        vertical-align: middle;\n",
       "    }\n",
       "\n",
       "    .dataframe tbody tr th {\n",
       "        vertical-align: top;\n",
       "    }\n",
       "\n",
       "    .dataframe thead th {\n",
       "        text-align: right;\n",
       "    }\n",
       "</style>\n",
       "<table border=\"1\" class=\"dataframe\">\n",
       "  <thead>\n",
       "    <tr style=\"text-align: right;\">\n",
       "      <th></th>\n",
       "      <th>accuracy</th>\n",
       "      <th>confusion_matrix</th>\n",
       "      <th>precision</th>\n",
       "      <th>recall</th>\n",
       "      <th>auc</th>\n",
       "    </tr>\n",
       "  </thead>\n",
       "  <tbody>\n",
       "    <tr>\n",
       "      <th>logistic_regression</th>\n",
       "      <td>0.793256</td>\n",
       "      <td>[[735, 81], [152, 159]]</td>\n",
       "      <td>0.6625</td>\n",
       "      <td>0.511254</td>\n",
       "      <td>0.705995</td>\n",
       "    </tr>\n",
       "    <tr>\n",
       "      <th>decision_tree</th>\n",
       "      <td>0.723159</td>\n",
       "      <td>[[661, 155], [157, 154]]</td>\n",
       "      <td>0.498382</td>\n",
       "      <td>0.495177</td>\n",
       "      <td>0.652613</td>\n",
       "    </tr>\n",
       "    <tr>\n",
       "      <th>random_forest</th>\n",
       "      <td>0.789707</td>\n",
       "      <td>[[741, 75], [162, 149]]</td>\n",
       "      <td>0.665179</td>\n",
       "      <td>0.4791</td>\n",
       "      <td>0.693594</td>\n",
       "    </tr>\n",
       "    <tr>\n",
       "      <th>ada_boost</th>\n",
       "      <td>0.795918</td>\n",
       "      <td>[[736, 80], [150, 161]]</td>\n",
       "      <td>0.66805</td>\n",
       "      <td>0.517685</td>\n",
       "      <td>0.709823</td>\n",
       "    </tr>\n",
       "    <tr>\n",
       "      <th>gradient_boosting</th>\n",
       "      <td>0.803017</td>\n",
       "      <td>[[750, 66], [156, 155]]</td>\n",
       "      <td>0.701357</td>\n",
       "      <td>0.498392</td>\n",
       "      <td>0.708755</td>\n",
       "    </tr>\n",
       "    <tr>\n",
       "      <th>xgboost</th>\n",
       "      <td>0.780834</td>\n",
       "      <td>[[714, 102], [145, 166]]</td>\n",
       "      <td>0.619403</td>\n",
       "      <td>0.533762</td>\n",
       "      <td>0.704381</td>\n",
       "    </tr>\n",
       "  </tbody>\n",
       "</table>\n",
       "</div>"
      ],
      "text/plain": [
       "                     accuracy          confusion_matrix precision    recall  \\\n",
       "logistic_regression  0.793256   [[735, 81], [152, 159]]    0.6625  0.511254   \n",
       "decision_tree        0.723159  [[661, 155], [157, 154]]  0.498382  0.495177   \n",
       "random_forest        0.789707   [[741, 75], [162, 149]]  0.665179    0.4791   \n",
       "ada_boost            0.795918   [[736, 80], [150, 161]]   0.66805  0.517685   \n",
       "gradient_boosting    0.803017   [[750, 66], [156, 155]]  0.701357  0.498392   \n",
       "xgboost              0.780834  [[714, 102], [145, 166]]  0.619403  0.533762   \n",
       "\n",
       "                          auc  \n",
       "logistic_regression  0.705995  \n",
       "decision_tree        0.652613  \n",
       "random_forest        0.693594  \n",
       "ada_boost            0.709823  \n",
       "gradient_boosting    0.708755  \n",
       "xgboost              0.704381  "
      ]
     },
     "execution_count": 25,
     "metadata": {},
     "output_type": "execute_result"
    }
   ],
   "source": [
    "pd.DataFrame(model_mertic).T"
   ]
  },
  {
   "cell_type": "markdown",
   "metadata": {},
   "source": [
    "### After SmoteNC"
   ]
  },
  {
   "cell_type": "code",
   "execution_count": 94,
   "metadata": {},
   "outputs": [
    {
     "data": {
      "text/html": [
       "<div>\n",
       "<style scoped>\n",
       "    .dataframe tbody tr th:only-of-type {\n",
       "        vertical-align: middle;\n",
       "    }\n",
       "\n",
       "    .dataframe tbody tr th {\n",
       "        vertical-align: top;\n",
       "    }\n",
       "\n",
       "    .dataframe thead th {\n",
       "        text-align: right;\n",
       "    }\n",
       "</style>\n",
       "<table border=\"1\" class=\"dataframe\">\n",
       "  <thead>\n",
       "    <tr style=\"text-align: right;\">\n",
       "      <th></th>\n",
       "      <th>accuracy</th>\n",
       "      <th>confusion_matrix</th>\n",
       "      <th>precision</th>\n",
       "      <th>recall</th>\n",
       "      <th>auc</th>\n",
       "    </tr>\n",
       "  </thead>\n",
       "  <tbody>\n",
       "    <tr>\n",
       "      <th>logistic_regression</th>\n",
       "      <td>0.803904</td>\n",
       "      <td>[[735, 94], [127, 171]]</td>\n",
       "      <td>0.645283</td>\n",
       "      <td>0.573826</td>\n",
       "      <td>0.730218</td>\n",
       "    </tr>\n",
       "    <tr>\n",
       "      <th>decision_tree</th>\n",
       "      <td>0.71961</td>\n",
       "      <td>[[663, 166], [150, 148]]</td>\n",
       "      <td>0.471338</td>\n",
       "      <td>0.496644</td>\n",
       "      <td>0.648202</td>\n",
       "    </tr>\n",
       "    <tr>\n",
       "      <th>random_forest</th>\n",
       "      <td>0.776398</td>\n",
       "      <td>[[721, 108], [144, 154]]</td>\n",
       "      <td>0.587786</td>\n",
       "      <td>0.516779</td>\n",
       "      <td>0.693251</td>\n",
       "    </tr>\n",
       "    <tr>\n",
       "      <th>ada_boost</th>\n",
       "      <td>0.801242</td>\n",
       "      <td>[[734, 95], [129, 169]]</td>\n",
       "      <td>0.640152</td>\n",
       "      <td>0.567114</td>\n",
       "      <td>0.726259</td>\n",
       "    </tr>\n",
       "    <tr>\n",
       "      <th>gradient_boosting</th>\n",
       "      <td>0.813665</td>\n",
       "      <td>[[746, 83], [127, 171]]</td>\n",
       "      <td>0.673228</td>\n",
       "      <td>0.573826</td>\n",
       "      <td>0.736852</td>\n",
       "    </tr>\n",
       "    <tr>\n",
       "      <th>xgboost</th>\n",
       "      <td>0.774623</td>\n",
       "      <td>[[718, 111], [143, 155]]</td>\n",
       "      <td>0.582707</td>\n",
       "      <td>0.520134</td>\n",
       "      <td>0.693119</td>\n",
       "    </tr>\n",
       "  </tbody>\n",
       "</table>\n",
       "</div>"
      ],
      "text/plain": [
       "                     accuracy          confusion_matrix precision    recall  \\\n",
       "logistic_regression  0.803904   [[735, 94], [127, 171]]  0.645283  0.573826   \n",
       "decision_tree         0.71961  [[663, 166], [150, 148]]  0.471338  0.496644   \n",
       "random_forest        0.776398  [[721, 108], [144, 154]]  0.587786  0.516779   \n",
       "ada_boost            0.801242   [[734, 95], [129, 169]]  0.640152  0.567114   \n",
       "gradient_boosting    0.813665   [[746, 83], [127, 171]]  0.673228  0.573826   \n",
       "xgboost              0.774623  [[718, 111], [143, 155]]  0.582707  0.520134   \n",
       "\n",
       "                          auc  \n",
       "logistic_regression  0.730218  \n",
       "decision_tree        0.648202  \n",
       "random_forest        0.693251  \n",
       "ada_boost            0.726259  \n",
       "gradient_boosting    0.736852  \n",
       "xgboost              0.693119  "
      ]
     },
     "execution_count": 94,
     "metadata": {},
     "output_type": "execute_result"
    }
   ],
   "source": [
    "pd.DataFrame(model_mertic).T"
   ]
  },
  {
   "cell_type": "code",
   "execution_count": null,
   "metadata": {},
   "outputs": [],
   "source": []
  }
 ],
 "metadata": {
  "interpreter": {
   "hash": "b4262c6035615ce095adca6ed56ad670dc959a2a26d72650c4ab1ec1f23740d0"
  },
  "kernelspec": {
   "display_name": "Python 3.11.11",
   "language": "python",
   "name": "python3"
  },
  "language_info": {
   "codemirror_mode": {
    "name": "ipython",
    "version": 3
   },
   "file_extension": ".py",
   "mimetype": "text/x-python",
   "name": "python",
   "nbconvert_exporter": "python",
   "pygments_lexer": "ipython3",
   "version": "3.11.11"
  },
  "orig_nbformat": 4
 },
 "nbformat": 4,
 "nbformat_minor": 2
}
