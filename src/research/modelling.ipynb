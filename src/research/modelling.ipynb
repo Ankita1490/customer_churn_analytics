{
 "cells": [
  {
   "cell_type": "code",
   "execution_count": 1,
   "metadata": {},
   "outputs": [],
   "source": [
    "import pandas as pd\n",
    "import numpy as np\n",
    "import os\n",
    "from sklearn.preprocessing import LabelEncoder, StandardScaler\n",
    "from sklearn.compose import ColumnTransformer\n",
    "from sklearn.model_selection import train_test_split\n",
    "from sklearn.metrics import accuracy_score, precision_score, recall_score, roc_auc_score, confusion_matrix\n",
    "from sklearn.linear_model import LogisticRegression\n",
    "from sklearn.tree import DecisionTreeClassifier\n",
    "from sklearn.ensemble import RandomForestClassifier\n",
    "from sklearn.ensemble import GradientBoostingClassifier\n",
    "from sklearn.ensemble import AdaBoostClassifier\n",
    "from xgboost import XGBClassifier\n"
   ]
  },
  {
   "cell_type": "code",
   "execution_count": 2,
   "metadata": {},
   "outputs": [
    {
     "data": {
      "text/plain": [
       "'c:\\\\Users\\\\ankita\\\\Desktop\\\\Personal_Project\\\\Customer_churn_analytics\\\\src\\\\research'"
      ]
     },
     "execution_count": 2,
     "metadata": {},
     "output_type": "execute_result"
    }
   ],
   "source": [
    "os.getcwd()"
   ]
  },
  {
   "cell_type": "code",
   "execution_count": 3,
   "metadata": {},
   "outputs": [],
   "source": [
    "\n",
    "churn_df = pd.read_csv(\"./../../artifacts/customer_churn.csv\")"
   ]
  },
  {
   "cell_type": "markdown",
   "metadata": {},
   "source": [
    "#### Preprocessing"
   ]
  },
  {
   "cell_type": "code",
   "execution_count": 4,
   "metadata": {},
   "outputs": [],
   "source": [
    "train, test = train_test_split(churn_df, test_size=0.2, shuffle=False)"
   ]
  },
  {
   "cell_type": "code",
   "execution_count": 5,
   "metadata": {},
   "outputs": [
    {
     "name": "stdout",
     "output_type": "stream",
     "text": [
      "(5634, 21)\n",
      "(1409, 21)\n"
     ]
    }
   ],
   "source": [
    "print(train.shape)\n",
    "print(test.shape)"
   ]
  },
  {
   "cell_type": "markdown",
   "metadata": {},
   "source": [
    "## Preprocessing on the train set"
   ]
  },
  {
   "cell_type": "code",
   "execution_count": 6,
   "metadata": {},
   "outputs": [
    {
     "data": {
      "text/html": [
       "<div>\n",
       "<style scoped>\n",
       "    .dataframe tbody tr th:only-of-type {\n",
       "        vertical-align: middle;\n",
       "    }\n",
       "\n",
       "    .dataframe tbody tr th {\n",
       "        vertical-align: top;\n",
       "    }\n",
       "\n",
       "    .dataframe thead th {\n",
       "        text-align: right;\n",
       "    }\n",
       "</style>\n",
       "<table border=\"1\" class=\"dataframe\">\n",
       "  <thead>\n",
       "    <tr style=\"text-align: right;\">\n",
       "      <th></th>\n",
       "      <th>SeniorCitizen</th>\n",
       "      <th>tenure</th>\n",
       "      <th>MonthlyCharges</th>\n",
       "    </tr>\n",
       "  </thead>\n",
       "  <tbody>\n",
       "    <tr>\n",
       "      <th>count</th>\n",
       "      <td>5634.000000</td>\n",
       "      <td>5634.000000</td>\n",
       "      <td>5634.000000</td>\n",
       "    </tr>\n",
       "    <tr>\n",
       "      <th>mean</th>\n",
       "      <td>0.160454</td>\n",
       "      <td>32.296592</td>\n",
       "      <td>64.867483</td>\n",
       "    </tr>\n",
       "    <tr>\n",
       "      <th>std</th>\n",
       "      <td>0.367060</td>\n",
       "      <td>24.588599</td>\n",
       "      <td>30.099600</td>\n",
       "    </tr>\n",
       "    <tr>\n",
       "      <th>min</th>\n",
       "      <td>0.000000</td>\n",
       "      <td>0.000000</td>\n",
       "      <td>18.250000</td>\n",
       "    </tr>\n",
       "    <tr>\n",
       "      <th>25%</th>\n",
       "      <td>0.000000</td>\n",
       "      <td>9.000000</td>\n",
       "      <td>35.612500</td>\n",
       "    </tr>\n",
       "    <tr>\n",
       "      <th>50%</th>\n",
       "      <td>0.000000</td>\n",
       "      <td>29.000000</td>\n",
       "      <td>70.425000</td>\n",
       "    </tr>\n",
       "    <tr>\n",
       "      <th>75%</th>\n",
       "      <td>0.000000</td>\n",
       "      <td>55.000000</td>\n",
       "      <td>89.900000</td>\n",
       "    </tr>\n",
       "    <tr>\n",
       "      <th>max</th>\n",
       "      <td>1.000000</td>\n",
       "      <td>72.000000</td>\n",
       "      <td>118.750000</td>\n",
       "    </tr>\n",
       "  </tbody>\n",
       "</table>\n",
       "</div>"
      ],
      "text/plain": [
       "       SeniorCitizen       tenure  MonthlyCharges\n",
       "count    5634.000000  5634.000000     5634.000000\n",
       "mean        0.160454    32.296592       64.867483\n",
       "std         0.367060    24.588599       30.099600\n",
       "min         0.000000     0.000000       18.250000\n",
       "25%         0.000000     9.000000       35.612500\n",
       "50%         0.000000    29.000000       70.425000\n",
       "75%         0.000000    55.000000       89.900000\n",
       "max         1.000000    72.000000      118.750000"
      ]
     },
     "execution_count": 6,
     "metadata": {},
     "output_type": "execute_result"
    }
   ],
   "source": [
    "train.describe()"
   ]
  },
  {
   "cell_type": "code",
   "execution_count": 7,
   "metadata": {},
   "outputs": [
    {
     "data": {
      "text/plain": [
       "customerID           object\n",
       "gender               object\n",
       "SeniorCitizen         int64\n",
       "Partner              object\n",
       "Dependents           object\n",
       "tenure                int64\n",
       "PhoneService         object\n",
       "MultipleLines        object\n",
       "InternetService      object\n",
       "OnlineSecurity       object\n",
       "OnlineBackup         object\n",
       "DeviceProtection     object\n",
       "TechSupport          object\n",
       "StreamingTV          object\n",
       "StreamingMovies      object\n",
       "Contract             object\n",
       "PaperlessBilling     object\n",
       "PaymentMethod        object\n",
       "MonthlyCharges      float64\n",
       "TotalCharges         object\n",
       "Churn                object\n",
       "dtype: object"
      ]
     },
     "execution_count": 7,
     "metadata": {},
     "output_type": "execute_result"
    }
   ],
   "source": [
    "train.dtypes"
   ]
  },
  {
   "cell_type": "code",
   "execution_count": 8,
   "metadata": {},
   "outputs": [],
   "source": [
    "def correct_incorrect_dtypes(X):\n",
    "    if X['SeniorCitizen'].dtype in ['int64','float64']:\n",
    "        X['SeniorCitizen']= X['SeniorCitizen'].astype('object')\n",
    "        X['TotalCharges'] = pd.to_numeric(X['TotalCharges'], errors = 'coerce')\n",
    "    return X\n",
    "        "
   ]
  },
  {
   "cell_type": "code",
   "execution_count": 9,
   "metadata": {},
   "outputs": [],
   "source": [
    "train_df = correct_incorrect_dtypes(train)\n",
    "test_df = correct_incorrect_dtypes(test)"
   ]
  },
  {
   "cell_type": "code",
   "execution_count": 10,
   "metadata": {},
   "outputs": [
    {
     "data": {
      "text/plain": [
       "customerID          0\n",
       "gender              0\n",
       "SeniorCitizen       0\n",
       "Partner             0\n",
       "Dependents          0\n",
       "tenure              0\n",
       "PhoneService        0\n",
       "MultipleLines       0\n",
       "InternetService     0\n",
       "OnlineSecurity      0\n",
       "OnlineBackup        0\n",
       "DeviceProtection    0\n",
       "TechSupport         0\n",
       "StreamingTV         0\n",
       "StreamingMovies     0\n",
       "Contract            0\n",
       "PaperlessBilling    0\n",
       "PaymentMethod       0\n",
       "MonthlyCharges      0\n",
       "TotalCharges        9\n",
       "Churn               0\n",
       "dtype: int64"
      ]
     },
     "execution_count": 10,
     "metadata": {},
     "output_type": "execute_result"
    }
   ],
   "source": [
    "train_df.isna().sum()"
   ]
  },
  {
   "cell_type": "markdown",
   "metadata": {},
   "source": [
    "### Special Case"
   ]
  },
  {
   "cell_type": "code",
   "execution_count": 11,
   "metadata": {},
   "outputs": [
    {
     "data": {
      "text/html": [
       "<div>\n",
       "<style scoped>\n",
       "    .dataframe tbody tr th:only-of-type {\n",
       "        vertical-align: middle;\n",
       "    }\n",
       "\n",
       "    .dataframe tbody tr th {\n",
       "        vertical-align: top;\n",
       "    }\n",
       "\n",
       "    .dataframe thead th {\n",
       "        text-align: right;\n",
       "    }\n",
       "</style>\n",
       "<table border=\"1\" class=\"dataframe\">\n",
       "  <thead>\n",
       "    <tr style=\"text-align: right;\">\n",
       "      <th></th>\n",
       "      <th>tenure</th>\n",
       "      <th>TotalCharges</th>\n",
       "    </tr>\n",
       "  </thead>\n",
       "  <tbody>\n",
       "    <tr>\n",
       "      <th>488</th>\n",
       "      <td>0</td>\n",
       "      <td>NaN</td>\n",
       "    </tr>\n",
       "    <tr>\n",
       "      <th>753</th>\n",
       "      <td>0</td>\n",
       "      <td>NaN</td>\n",
       "    </tr>\n",
       "    <tr>\n",
       "      <th>936</th>\n",
       "      <td>0</td>\n",
       "      <td>NaN</td>\n",
       "    </tr>\n",
       "    <tr>\n",
       "      <th>1082</th>\n",
       "      <td>0</td>\n",
       "      <td>NaN</td>\n",
       "    </tr>\n",
       "    <tr>\n",
       "      <th>1340</th>\n",
       "      <td>0</td>\n",
       "      <td>NaN</td>\n",
       "    </tr>\n",
       "    <tr>\n",
       "      <th>3331</th>\n",
       "      <td>0</td>\n",
       "      <td>NaN</td>\n",
       "    </tr>\n",
       "    <tr>\n",
       "      <th>3826</th>\n",
       "      <td>0</td>\n",
       "      <td>NaN</td>\n",
       "    </tr>\n",
       "    <tr>\n",
       "      <th>4380</th>\n",
       "      <td>0</td>\n",
       "      <td>NaN</td>\n",
       "    </tr>\n",
       "    <tr>\n",
       "      <th>5218</th>\n",
       "      <td>0</td>\n",
       "      <td>NaN</td>\n",
       "    </tr>\n",
       "  </tbody>\n",
       "</table>\n",
       "</div>"
      ],
      "text/plain": [
       "      tenure  TotalCharges\n",
       "488        0           NaN\n",
       "753        0           NaN\n",
       "936        0           NaN\n",
       "1082       0           NaN\n",
       "1340       0           NaN\n",
       "3331       0           NaN\n",
       "3826       0           NaN\n",
       "4380       0           NaN\n",
       "5218       0           NaN"
      ]
     },
     "execution_count": 11,
     "metadata": {},
     "output_type": "execute_result"
    }
   ],
   "source": [
    "train_df[['tenure', 'TotalCharges']][train_df['tenure'] == 0.0]\n"
   ]
  },
  {
   "cell_type": "markdown",
   "metadata": {},
   "source": [
    "* Since there are 9 customers that only had 0 month tenure and totalCharges is null. I am assumming that the customers have signed a contract but possibly canceled or left before their first billing cycle, which tells us that their TotalCharges is null.\n",
    "* Either I can remove those instances but again if the unseen data has such instances that will be a problem.\n",
    "* Instead of having tenure as 0 we can modify it to 0.1 this ensures the model doesnt treat them as a completely different group but still recognises them as new customer.\n",
    "* Since they are not included in the billing cycle replacing the null value to 0 would be ok."
   ]
  },
  {
   "cell_type": "code",
   "execution_count": 12,
   "metadata": {},
   "outputs": [],
   "source": [
    "def impute_total_charges_for_zero_tenure(df):\n",
    "    if df['tenure'][df['tenure'] == 0.0].count() > 0:\n",
    "        df['tenure'][df['tenure'] == 0.0] = 0.1\n",
    "        df['TotalCharges']=df['TotalCharges'].fillna(0.0)\n",
    "    else:\n",
    "        print(\"There are no tenure that has 0 months\")\n",
    "    return df\n",
    "\n",
    "def categorize_dtypes(train_df):\n",
    "    numerical_columns = train_df.select_dtypes(['int64', 'float64']).columns\n",
    "    categorical_columns = train_df.select_dtypes(['object','category']).columns[1:]\n",
    "    return numerical_columns,categorical_columns\n",
    "\n",
    "def imputation(X,numerical_columns,categorical_columns):\n",
    "    median = X[numerical_columns].median()\n",
    "    mode = X[categorical_columns].mode()\n",
    "    X[numerical_columns]= X[numerical_columns].fillna(median)\n",
    "    X[categorical_columns] =X[categorical_columns].fillna(mode[0])\n",
    "    return X, median, mode\n",
    "\n",
    "def apply_imputation(test_df,numerical_columns,categorical_columns, median, mode):\n",
    "    test_df[numerical_columns]= test_df[numerical_columns].fillna(median)\n",
    "    test_df[categorical_columns] =test_df[categorical_columns].fillna(mode[0])\n",
    "    return test_df"
   ]
  },
  {
   "cell_type": "code",
   "execution_count": 13,
   "metadata": {},
   "outputs": [
    {
     "name": "stderr",
     "output_type": "stream",
     "text": [
      "C:\\Users\\ankita\\AppData\\Local\\Temp\\ipykernel_2864\\4187944307.py:3: FutureWarning: ChainedAssignmentError: behaviour will change in pandas 3.0!\n",
      "You are setting values through chained assignment. Currently this works in certain cases, but when using Copy-on-Write (which will become the default behaviour in pandas 3.0) this will never work to update the original DataFrame or Series, because the intermediate object on which we are setting values will behave as a copy.\n",
      "A typical example is when you are setting values in a column of a DataFrame, like:\n",
      "\n",
      "df[\"col\"][row_indexer] = value\n",
      "\n",
      "Use `df.loc[row_indexer, \"col\"] = values` instead, to perform the assignment in a single step and ensure this keeps updating the original `df`.\n",
      "\n",
      "See the caveats in the documentation: https://pandas.pydata.org/pandas-docs/stable/user_guide/indexing.html#returning-a-view-versus-a-copy\n",
      "\n",
      "  df['tenure'][df['tenure'] == 0.0] = 0.1\n",
      "C:\\Users\\ankita\\AppData\\Local\\Temp\\ipykernel_2864\\4187944307.py:3: SettingWithCopyWarning: \n",
      "A value is trying to be set on a copy of a slice from a DataFrame\n",
      "\n",
      "See the caveats in the documentation: https://pandas.pydata.org/pandas-docs/stable/user_guide/indexing.html#returning-a-view-versus-a-copy\n",
      "  df['tenure'][df['tenure'] == 0.0] = 0.1\n",
      "C:\\Users\\ankita\\AppData\\Local\\Temp\\ipykernel_2864\\4187944307.py:3: FutureWarning: Setting an item of incompatible dtype is deprecated and will raise an error in a future version of pandas. Value '0.1' has dtype incompatible with int64, please explicitly cast to a compatible dtype first.\n",
      "  df['tenure'][df['tenure'] == 0.0] = 0.1\n",
      "C:\\Users\\ankita\\AppData\\Local\\Temp\\ipykernel_2864\\4187944307.py:3: FutureWarning: ChainedAssignmentError: behaviour will change in pandas 3.0!\n",
      "You are setting values through chained assignment. Currently this works in certain cases, but when using Copy-on-Write (which will become the default behaviour in pandas 3.0) this will never work to update the original DataFrame or Series, because the intermediate object on which we are setting values will behave as a copy.\n",
      "A typical example is when you are setting values in a column of a DataFrame, like:\n",
      "\n",
      "df[\"col\"][row_indexer] = value\n",
      "\n",
      "Use `df.loc[row_indexer, \"col\"] = values` instead, to perform the assignment in a single step and ensure this keeps updating the original `df`.\n",
      "\n",
      "See the caveats in the documentation: https://pandas.pydata.org/pandas-docs/stable/user_guide/indexing.html#returning-a-view-versus-a-copy\n",
      "\n",
      "  df['tenure'][df['tenure'] == 0.0] = 0.1\n",
      "C:\\Users\\ankita\\AppData\\Local\\Temp\\ipykernel_2864\\4187944307.py:3: SettingWithCopyWarning: \n",
      "A value is trying to be set on a copy of a slice from a DataFrame\n",
      "\n",
      "See the caveats in the documentation: https://pandas.pydata.org/pandas-docs/stable/user_guide/indexing.html#returning-a-view-versus-a-copy\n",
      "  df['tenure'][df['tenure'] == 0.0] = 0.1\n",
      "C:\\Users\\ankita\\AppData\\Local\\Temp\\ipykernel_2864\\4187944307.py:3: FutureWarning: Setting an item of incompatible dtype is deprecated and will raise an error in a future version of pandas. Value '0.1' has dtype incompatible with int64, please explicitly cast to a compatible dtype first.\n",
      "  df['tenure'][df['tenure'] == 0.0] = 0.1\n"
     ]
    }
   ],
   "source": [
    "train_df = impute_total_charges_for_zero_tenure(train_df)\n",
    "test_df = impute_total_charges_for_zero_tenure(test_df)"
   ]
  },
  {
   "cell_type": "code",
   "execution_count": 14,
   "metadata": {},
   "outputs": [
    {
     "data": {
      "text/plain": [
       "Index(['customerID', 'gender', 'SeniorCitizen', 'Partner', 'Dependents',\n",
       "       'tenure', 'PhoneService', 'MultipleLines', 'InternetService',\n",
       "       'OnlineSecurity', 'OnlineBackup', 'DeviceProtection', 'TechSupport',\n",
       "       'StreamingTV', 'StreamingMovies', 'Contract', 'PaperlessBilling',\n",
       "       'PaymentMethod', 'MonthlyCharges', 'TotalCharges', 'Churn'],\n",
       "      dtype='object')"
      ]
     },
     "execution_count": 14,
     "metadata": {},
     "output_type": "execute_result"
    }
   ],
   "source": [
    "test_df.columns"
   ]
  },
  {
   "cell_type": "code",
   "execution_count": 15,
   "metadata": {},
   "outputs": [],
   "source": [
    "numerical_columns_, categorical_columns_ = categorize_dtypes(train_df)"
   ]
  },
  {
   "cell_type": "code",
   "execution_count": 16,
   "metadata": {},
   "outputs": [],
   "source": [
    "def feature_scaling_encoding(train_df,test_df, numerical_columns_, categorical_columns_):\n",
    "    \n",
    "    standard_scl = StandardScaler()\n",
    "    train_df[numerical_columns_] = standard_scl.fit_transform(train_df[numerical_columns_])\n",
    "    test_df[numerical_columns_] = standard_scl.transform(test_df[numerical_columns_])\n",
    "        \n",
    "    for col in categorical_columns_:\n",
    "        le = LabelEncoder()\n",
    "        train_df[col] = le.fit_transform(train_df[col])\n",
    "        test_df[col] = le.transform(test_df[col])\n",
    "    return train_df, test_df"
   ]
  },
  {
   "cell_type": "code",
   "execution_count": 17,
   "metadata": {},
   "outputs": [],
   "source": [
    "scaled_encoded_train_df, scaled_encoded_test_df = feature_scaling_encoding(train_df, test_df, numerical_columns_, categorical_columns_)"
   ]
  },
  {
   "cell_type": "code",
   "execution_count": 18,
   "metadata": {},
   "outputs": [
    {
     "data": {
      "text/plain": [
       "Index(['customerID', 'gender', 'SeniorCitizen', 'Partner', 'Dependents',\n",
       "       'tenure', 'PhoneService', 'MultipleLines', 'InternetService',\n",
       "       'OnlineSecurity', 'OnlineBackup', 'DeviceProtection', 'TechSupport',\n",
       "       'StreamingTV', 'StreamingMovies', 'Contract', 'PaperlessBilling',\n",
       "       'PaymentMethod', 'MonthlyCharges', 'TotalCharges', 'Churn'],\n",
       "      dtype='object')"
      ]
     },
     "execution_count": 18,
     "metadata": {},
     "output_type": "execute_result"
    }
   ],
   "source": [
    "scaled_encoded_test_df.columns"
   ]
  },
  {
   "cell_type": "code",
   "execution_count": 19,
   "metadata": {},
   "outputs": [],
   "source": [
    "X_train, y_train = scaled_encoded_train_df.drop(['customerID','Churn'], axis = 1), scaled_encoded_train_df['Churn']\n",
    "X_test, y_test = scaled_encoded_test_df.drop(['customerID','Churn'], axis = 1), scaled_encoded_test_df['Churn']"
   ]
  },
  {
   "cell_type": "markdown",
   "metadata": {},
   "source": [
    "### train and val split"
   ]
  },
  {
   "cell_type": "code",
   "execution_count": 28,
   "metadata": {},
   "outputs": [],
   "source": [
    "train_X, val_X, train_y, val_y = train_test_split(X_train,y_train, test_size=0.2, shuffle = True)"
   ]
  },
  {
   "cell_type": "code",
   "execution_count": 29,
   "metadata": {},
   "outputs": [
    {
     "name": "stdout",
     "output_type": "stream",
     "text": [
      "(4507, 19)\n",
      "(4507,)\n",
      "(1127, 19)\n",
      "(1127,)\n"
     ]
    }
   ],
   "source": [
    "print(train_X.shape)\n",
    "print(train_y.shape)\n",
    "print(val_X.shape)\n",
    "print(val_y.shape)"
   ]
  },
  {
   "cell_type": "markdown",
   "metadata": {},
   "source": [
    "### Create and evalute metric after the training model"
   ]
  },
  {
   "cell_type": "code",
   "execution_count": 30,
   "metadata": {},
   "outputs": [],
   "source": [
    "def evalute_model(true,predicted):\n",
    "    accuracy = accuracy_score(true, predicted)\n",
    "    cf_mx = confusion_matrix(true, predicted)\n",
    "    precision = precision_score(true, predicted)\n",
    "    recall = recall_score(true, predicted)\n",
    "    auc_roc = roc_auc_score(true, predicted)\n",
    "    return accuracy,cf_mx,precision,recall,auc_roc\n",
    "    "
   ]
  },
  {
   "cell_type": "code",
   "execution_count": 31,
   "metadata": {},
   "outputs": [],
   "source": [
    "models = {\n",
    "    \"logistic_regression\" : LogisticRegression(),\n",
    "    \"decision_tree\": DecisionTreeClassifier(),\n",
    "    \"random_forest\": RandomForestClassifier(),\n",
    "    \"ada_boost\": AdaBoostClassifier(),\n",
    "    \"gradient_boosting\": GradientBoostingClassifier(),\n",
    "    \"xgboost\": XGBClassifier()\n",
    "}\n"
   ]
  },
  {
   "cell_type": "code",
   "execution_count": 32,
   "metadata": {},
   "outputs": [],
   "source": [
    "model_list = []\n",
    "model_mertic = {}\n",
    "precision, recall = [], []\n",
    "for key,value in models.items():\n",
    "    model = models[key]\n",
    "    model.fit(train_X, train_y)\n",
    "    y_train_pred = model.predict(train_X)\n",
    "    y_val_pred = model.predict(val_X)\n",
    "    \n",
    "    model_train_accuracy, model_train_cf_mx, model_train_precision, model_train_recall, model_train_auc = evalute_model(train_y.values, y_train_pred)\n",
    "    model_val_accuracy,model_val_cf_mx, model_val_precision, model_val_recall, model_val_auc = evalute_model(val_y.values, y_val_pred)\n",
    "    model_list.append(model)\n",
    "    model_mertic[key] = {\n",
    "        'accuracy': model_val_accuracy, \n",
    "        'confusion_matrix':model_val_cf_mx,\n",
    "        'precision':model_val_precision,\n",
    "        'recall': model_val_recall,\n",
    "        'auc': model_val_auc\n",
    "    }"
   ]
  },
  {
   "cell_type": "code",
   "execution_count": 33,
   "metadata": {},
   "outputs": [
    {
     "data": {
      "text/html": [
       "<div>\n",
       "<style scoped>\n",
       "    .dataframe tbody tr th:only-of-type {\n",
       "        vertical-align: middle;\n",
       "    }\n",
       "\n",
       "    .dataframe tbody tr th {\n",
       "        vertical-align: top;\n",
       "    }\n",
       "\n",
       "    .dataframe thead th {\n",
       "        text-align: right;\n",
       "    }\n",
       "</style>\n",
       "<table border=\"1\" class=\"dataframe\">\n",
       "  <thead>\n",
       "    <tr style=\"text-align: right;\">\n",
       "      <th></th>\n",
       "      <th>accuracy</th>\n",
       "      <th>confusion_matrix</th>\n",
       "      <th>precision</th>\n",
       "      <th>recall</th>\n",
       "      <th>auc</th>\n",
       "    </tr>\n",
       "  </thead>\n",
       "  <tbody>\n",
       "    <tr>\n",
       "      <th>logistic_regression</th>\n",
       "      <td>0.792369</td>\n",
       "      <td>[[737, 84], [150, 156]]</td>\n",
       "      <td>0.65</td>\n",
       "      <td>0.509804</td>\n",
       "      <td>0.703745</td>\n",
       "    </tr>\n",
       "    <tr>\n",
       "      <th>decision_tree</th>\n",
       "      <td>0.732032</td>\n",
       "      <td>[[672, 149], [153, 153]]</td>\n",
       "      <td>0.506623</td>\n",
       "      <td>0.5</td>\n",
       "      <td>0.659257</td>\n",
       "    </tr>\n",
       "    <tr>\n",
       "      <th>random_forest</th>\n",
       "      <td>0.79858</td>\n",
       "      <td>[[748, 73], [154, 152]]</td>\n",
       "      <td>0.675556</td>\n",
       "      <td>0.496732</td>\n",
       "      <td>0.703908</td>\n",
       "    </tr>\n",
       "    <tr>\n",
       "      <th>ada_boost</th>\n",
       "      <td>0.800355</td>\n",
       "      <td>[[744, 77], [148, 158]]</td>\n",
       "      <td>0.67234</td>\n",
       "      <td>0.51634</td>\n",
       "      <td>0.711276</td>\n",
       "    </tr>\n",
       "    <tr>\n",
       "      <th>gradient_boosting</th>\n",
       "      <td>0.808341</td>\n",
       "      <td>[[751, 70], [146, 160]]</td>\n",
       "      <td>0.695652</td>\n",
       "      <td>0.522876</td>\n",
       "      <td>0.718807</td>\n",
       "    </tr>\n",
       "    <tr>\n",
       "      <th>xgboost</th>\n",
       "      <td>0.787933</td>\n",
       "      <td>[[727, 94], [145, 161]]</td>\n",
       "      <td>0.631373</td>\n",
       "      <td>0.526144</td>\n",
       "      <td>0.705825</td>\n",
       "    </tr>\n",
       "  </tbody>\n",
       "</table>\n",
       "</div>"
      ],
      "text/plain": [
       "                     accuracy          confusion_matrix precision    recall  \\\n",
       "logistic_regression  0.792369   [[737, 84], [150, 156]]      0.65  0.509804   \n",
       "decision_tree        0.732032  [[672, 149], [153, 153]]  0.506623       0.5   \n",
       "random_forest         0.79858   [[748, 73], [154, 152]]  0.675556  0.496732   \n",
       "ada_boost            0.800355   [[744, 77], [148, 158]]   0.67234   0.51634   \n",
       "gradient_boosting    0.808341   [[751, 70], [146, 160]]  0.695652  0.522876   \n",
       "xgboost              0.787933   [[727, 94], [145, 161]]  0.631373  0.526144   \n",
       "\n",
       "                          auc  \n",
       "logistic_regression  0.703745  \n",
       "decision_tree        0.659257  \n",
       "random_forest        0.703908  \n",
       "ada_boost            0.711276  \n",
       "gradient_boosting    0.718807  \n",
       "xgboost              0.705825  "
      ]
     },
     "execution_count": 33,
     "metadata": {},
     "output_type": "execute_result"
    }
   ],
   "source": [
    "pd.DataFrame(model_mertic).T"
   ]
  }
 ],
 "metadata": {
  "interpreter": {
   "hash": "b4262c6035615ce095adca6ed56ad670dc959a2a26d72650c4ab1ec1f23740d0"
  },
  "kernelspec": {
   "display_name": "Python 3.11.11",
   "language": "python",
   "name": "python3"
  },
  "language_info": {
   "codemirror_mode": {
    "name": "ipython",
    "version": 3
   },
   "file_extension": ".py",
   "mimetype": "text/x-python",
   "name": "python",
   "nbconvert_exporter": "python",
   "pygments_lexer": "ipython3",
   "version": "3.11.11"
  },
  "orig_nbformat": 4
 },
 "nbformat": 4,
 "nbformat_minor": 2
}
